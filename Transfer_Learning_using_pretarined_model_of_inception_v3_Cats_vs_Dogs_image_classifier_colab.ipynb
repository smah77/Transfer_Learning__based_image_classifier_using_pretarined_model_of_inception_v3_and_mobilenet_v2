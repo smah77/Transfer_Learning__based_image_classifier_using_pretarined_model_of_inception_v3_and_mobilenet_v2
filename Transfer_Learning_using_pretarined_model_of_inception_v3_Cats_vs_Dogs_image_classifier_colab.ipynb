{
 "nbformat": 4,
 "nbformat_minor": 0,
 "metadata": {
  "accelerator": "GPU",
  "colab": {
   "name": "P2_C2W3_TransferL_IncepV3_C_vs_D_colab",
   "provenance": [],
   "collapsed_sections": []
  },
  "kernelspec": {
   "display_name": "Python 3",
   "name": "python3"
  }
 },
 "cells": [
  {
   "cell_type": "code",
   "metadata": {
    "id": "zBVSVkI19rIw"
   },
   "source": [
    "import os\n",
    "import zipfile\n",
    "import random\n",
    "import tensorflow as tf\n",
    "from tensorflow.keras.optimizers import RMSprop\n",
    "from tensorflow.keras.preprocessing.image import ImageDataGenerator\n",
    "from shutil import copyfile"
   ],
   "execution_count": 1,
   "outputs": []
  },
  {
   "cell_type": "code",
   "metadata": {
    "colab": {
     "base_uri": "https://localhost:8080/"
    },
    "id": "79OhWddT-RUW",
    "outputId": "9500adfa-d173-48dc-da51-d441e8943133"
   },
   "source": [
    "!pip install wget"
   ],
   "execution_count": 2,
   "outputs": [
    {
     "output_type": "stream",
     "text": [
      "Collecting wget\n",
      "  Downloading https://files.pythonhosted.org/packages/47/6a/62e288da7bcda82b935ff0c6cfe542970f04e29c756b0e147251b2fb251f/wget-3.2.zip\n",
      "Building wheels for collected packages: wget\n",
      "  Building wheel for wget (setup.py) ... \u001B[?25l\u001B[?25hdone\n",
      "  Created wheel for wget: filename=wget-3.2-cp37-none-any.whl size=9681 sha256=c29b0ee97b78a9e787bd8d8ed82eeb28ce83c46643de4c1d79f1510b453318ba\n",
      "  Stored in directory: /root/.cache/pip/wheels/40/15/30/7d8f7cea2902b4db79e3fea550d7d7b85ecb27ef992b618f3f\n",
      "Successfully built wget\n",
      "Installing collected packages: wget\n",
      "Successfully installed wget-3.2\n"
     ],
     "name": "stdout"
    }
   ]
  },
  {
   "cell_type": "code",
   "metadata": {
    "colab": {
     "base_uri": "https://localhost:8080/"
    },
    "id": "LaLaOusE-xQS",
    "outputId": "3b026c78-5ca4-4498-d933-444562f57959"
   },
   "source": [
    "import wget\n",
    "url1=\"https://storage.googleapis.com/mledu-datasets/inception_v3_weights_tf_dim_ordering_tf_kernels_notop.h5\"\n",
    "filename=wget.download(url1, \"/tmp\")\n",
    "os.path.dirname(os.path.abspath(filename))\n",
    "print(filename)"
   ],
   "execution_count": 3,
   "outputs": [
    {
     "output_type": "stream",
     "text": [
      "/tmp/inception_v3_weights_tf_dim_ordering_tf_kernels_notop.h5\n"
     ],
     "name": "stdout"
    }
   ]
  },
  {
   "cell_type": "code",
   "metadata": {
    "id": "XD754tg5_LHu"
   },
   "source": [
    "from tensorflow.keras.applications.inception_v3 import InceptionV3\n",
    "\n",
    "local_weights_file = '/tmp/inception_v3_weights_tf_dim_ordering_tf_kernels_notop.h5'"
   ],
   "execution_count": 4,
   "outputs": []
  },
  {
   "cell_type": "code",
   "metadata": {
    "colab": {
     "base_uri": "https://localhost:8080/"
    },
    "id": "NOgxCwysGIiu",
    "outputId": "8c0ebca9-5e07-4d5c-f488-5666e04bc3db"
   },
   "source": [
    "pre_trained_model= InceptionV3(input_shape=(150,150,3),\n",
    "                               include_top=False,\n",
    "                               weights=None)\n",
    "for layer in pre_trained_model.layers:\n",
    "    layer.trainable=False\n",
    "#pre_trained_model.summary()\n",
    "last_layer=pre_trained_model.get_layer(\"mixed7\")\n",
    "print(\"last layer output shape\", last_layer.output_shape)\n",
    "last_output=last_layer.output"
   ],
   "execution_count": 9,
   "outputs": [
    {
     "output_type": "stream",
     "text": [
      "last layer output shape (None, 7, 7, 768)\n"
     ],
     "name": "stdout"
    }
   ]
  },
  {
   "cell_type": "code",
   "metadata": {
    "colab": {
     "base_uri": "https://localhost:8080/"
    },
    "id": "MLJoOScsJY9T",
    "outputId": "2ce8b0cb-e98b-48f5-c9d4-3e4f751019f1"
   },
   "source": [
    "import os\n",
    "\n",
    "from tensorflow.keras import layers\n",
    "from tensorflow.keras import Model\n",
    "from tensorflow.keras.optimizers import RMSprop\n",
    "\n",
    "x=layers.Flatten()(last_output)\n",
    "x=layers.Dense(1024,activation=\"relu\")(x)\n",
    "x=layers.Dropout(0.2)(x)\n",
    "x=layers.Dense(1, activation=\"sigmoid\")(x)\n",
    "\n",
    "model=Model(pre_trained_model.input,x)\n",
    "model.compile(\n",
    "    optimizer=RMSprop(lr=.0001),\n",
    "    loss=tf.keras.losses.binary_crossentropy,\n",
    "    metrics=[\"accuracy\"]\n",
    ")\n"
   ],
   "execution_count": 12,
   "outputs": [
    {
     "output_type": "stream",
     "text": [
      "/tmp/cats_and_dogs_filtered.zip\n"
     ],
     "name": "stdout"
    }
   ]
  },
  {
   "cell_type": "code",
   "metadata": {
    "id": "xU6h_V8HKNyb"
   },
   "source": [
    "from tensorflow.keras.preprocessing.image import ImageDataGenerator\r\n",
    "\r\n",
    "import os\r\n",
    "import zipfile\r\n",
    "\r\n",
    "local_zip = '/tmp/cats_and_dogs_filtered.zip'\r\n",
    "\r\n",
    "zip_ref = zipfile.ZipFile(local_zip, 'r')\r\n",
    "\r\n",
    "zip_ref.extractall('/tmp')\r\n",
    "zip_ref.close()"
   ],
   "execution_count": 14,
   "outputs": []
  },
  {
   "cell_type": "code",
   "metadata": {
    "colab": {
     "base_uri": "https://localhost:8080/"
    },
    "id": "uHkbAtv2K29p",
    "outputId": "7ec5198d-aa85-4569-eb0e-93aea1250269"
   },
   "source": [
    "# Define our example directories and files\r\n",
    "base_dir = '/tmp/cats_and_dogs_filtered'\r\n",
    "\r\n",
    "train_dir = os.path.join( base_dir, 'train')\r\n",
    "validation_dir = os.path.join( base_dir, 'validation')\r\n",
    "\r\n",
    "\r\n",
    "train_cats_dir = os.path.join(train_dir, 'cats') # Directory with our training cat pictures\r\n",
    "train_dogs_dir = os.path.join(train_dir, 'dogs') # Directory with our training dog pictures\r\n",
    "validation_cats_dir = os.path.join(validation_dir, 'cats') # Directory with our validation cat pictures\r\n",
    "validation_dogs_dir = os.path.join(validation_dir, 'dogs')# Directory with our validation dog pictures\r\n",
    "\r\n",
    "train_cat_fnames = os.listdir(train_cats_dir)\r\n",
    "train_dog_fnames = os.listdir(train_dogs_dir)\r\n",
    "\r\n",
    "# Add our data-augmentation parameters to ImageDataGenerator\r\n",
    "train_datagen = ImageDataGenerator(rescale = 1./255.,\r\n",
    "                                   rotation_range = 40,\r\n",
    "                                   width_shift_range = 0.2,\r\n",
    "                                   height_shift_range = 0.2,\r\n",
    "                                   shear_range = 0.2,\r\n",
    "                                   zoom_range = 0.2,\r\n",
    "                                   horizontal_flip = True)\r\n",
    "\r\n",
    "# Note that the validation data should not be augmented!\r\n",
    "test_datagen = ImageDataGenerator( rescale = 1.0/255. )\r\n",
    "\r\n",
    "# Flow training images in batches of 20 using train_datagen generator\r\n",
    "train_generator = train_datagen.flow_from_directory(train_dir,\r\n",
    "                                                    batch_size = 20,\r\n",
    "                                                    class_mode = 'binary', \r\n",
    "                                                    target_size = (150, 150))     \r\n",
    "\r\n",
    "# Flow validation images in batches of 20 using test_datagen generator\r\n",
    "validation_generator =  test_datagen.flow_from_directory( validation_dir,\r\n",
    "                                                          batch_size  = 20,\r\n",
    "                                                          class_mode  = 'binary', \r\n",
    "                                                          target_size = (150, 150))"
   ],
   "execution_count": 15,
   "outputs": [
    {
     "output_type": "stream",
     "text": [
      "Found 2000 images belonging to 2 classes.\n",
      "Found 1000 images belonging to 2 classes.\n"
     ],
     "name": "stdout"
    }
   ]
  },
  {
   "cell_type": "code",
   "metadata": {
    "colab": {
     "base_uri": "https://localhost:8080/"
    },
    "id": "sN82Tx8wLpeJ",
    "outputId": "4e16b71b-3c5d-4fa4-8f9c-56b5f82b8e5d"
   },
   "source": [
    "history = model.fit(\r\n",
    "            train_generator,\r\n",
    "            validation_data = validation_generator,\r\n",
    "            steps_per_epoch = 100,\r\n",
    "            epochs = 20,\r\n",
    "            validation_steps = 50,\r\n",
    "            verbose = 2)"
   ],
   "execution_count": 16,
   "outputs": [
    {
     "output_type": "stream",
     "text": [
      "Epoch 1/20\n",
      "100/100 - 53s - loss: 0.6932 - accuracy: 0.5075 - val_loss: 0.6926 - val_accuracy: 0.5000\n",
      "Epoch 2/20\n",
      "100/100 - 18s - loss: 0.6931 - accuracy: 0.5000 - val_loss: 0.6924 - val_accuracy: 0.5000\n",
      "Epoch 3/20\n",
      "100/100 - 18s - loss: 0.6927 - accuracy: 0.5060 - val_loss: 0.6922 - val_accuracy: 0.5000\n",
      "Epoch 4/20\n",
      "100/100 - 17s - loss: 0.6928 - accuracy: 0.5000 - val_loss: 0.6921 - val_accuracy: 0.5040\n",
      "Epoch 5/20\n",
      "100/100 - 17s - loss: 0.6926 - accuracy: 0.5115 - val_loss: 0.6919 - val_accuracy: 0.5070\n",
      "Epoch 6/20\n",
      "100/100 - 17s - loss: 0.6921 - accuracy: 0.5255 - val_loss: 0.6916 - val_accuracy: 0.5060\n",
      "Epoch 7/20\n",
      "100/100 - 18s - loss: 0.6920 - accuracy: 0.5230 - val_loss: 0.6913 - val_accuracy: 0.5060\n",
      "Epoch 8/20\n",
      "100/100 - 17s - loss: 0.6917 - accuracy: 0.5325 - val_loss: 0.6911 - val_accuracy: 0.5050\n",
      "Epoch 9/20\n",
      "100/100 - 17s - loss: 0.6911 - accuracy: 0.5410 - val_loss: 0.6910 - val_accuracy: 0.5040\n",
      "Epoch 10/20\n",
      "100/100 - 17s - loss: 0.6914 - accuracy: 0.5295 - val_loss: 0.6905 - val_accuracy: 0.5080\n",
      "Epoch 11/20\n",
      "100/100 - 18s - loss: 0.6912 - accuracy: 0.5315 - val_loss: 0.6901 - val_accuracy: 0.5360\n",
      "Epoch 12/20\n",
      "100/100 - 17s - loss: 0.6896 - accuracy: 0.5570 - val_loss: 0.6899 - val_accuracy: 0.5740\n",
      "Epoch 13/20\n",
      "100/100 - 17s - loss: 0.6902 - accuracy: 0.5575 - val_loss: 0.6895 - val_accuracy: 0.5070\n",
      "Epoch 14/20\n",
      "100/100 - 17s - loss: 0.6899 - accuracy: 0.5305 - val_loss: 0.6891 - val_accuracy: 0.5460\n",
      "Epoch 15/20\n",
      "100/100 - 18s - loss: 0.6898 - accuracy: 0.5480 - val_loss: 0.6889 - val_accuracy: 0.5640\n",
      "Epoch 16/20\n",
      "100/100 - 18s - loss: 0.6909 - accuracy: 0.5355 - val_loss: 0.6886 - val_accuracy: 0.5430\n",
      "Epoch 17/20\n",
      "100/100 - 17s - loss: 0.6894 - accuracy: 0.5495 - val_loss: 0.6882 - val_accuracy: 0.5440\n",
      "Epoch 18/20\n",
      "100/100 - 17s - loss: 0.6890 - accuracy: 0.5565 - val_loss: 0.6879 - val_accuracy: 0.5580\n",
      "Epoch 19/20\n",
      "100/100 - 17s - loss: 0.6893 - accuracy: 0.5575 - val_loss: 0.6875 - val_accuracy: 0.5420\n",
      "Epoch 20/20\n",
      "100/100 - 17s - loss: 0.6888 - accuracy: 0.5465 - val_loss: 0.6879 - val_accuracy: 0.5890\n"
     ],
     "name": "stdout"
    }
   ]
  },
  {
   "cell_type": "code",
   "metadata": {
    "colab": {
     "base_uri": "https://localhost:8080/",
     "height": 299
    },
    "id": "51wsZYcpM6SB",
    "outputId": "fab04148-d452-459f-b0db-d8f62d538767"
   },
   "source": [
    "import matplotlib.pyplot as plt\r\n",
    "acc = history.history['accuracy']\r\n",
    "val_acc = history.history['val_accuracy']\r\n",
    "loss = history.history['loss']\r\n",
    "val_loss = history.history['val_loss']\r\n",
    "\r\n",
    "epochs = range(len(acc))\r\n",
    "\r\n",
    "plt.plot(epochs, acc, 'r', label='Training accuracy')\r\n",
    "plt.plot(epochs, val_acc, 'b', label='Validation accuracy')\r\n",
    "plt.title('Training and validation accuracy')\r\n",
    "plt.legend(loc=0)\r\n",
    "plt.figure()\r\n",
    "\r\n",
    "\r\n",
    "plt.show()"
   ],
   "execution_count": 17,
   "outputs": [
    {
     "output_type": "display_data",
     "data": {
      "image/png": "[encoded data removed]",
      "text/plain": [
       "<Figure size 432x288 with 1 Axes>"
      ]
     },
     "metadata": {
      "tags": [],
      "needs_background": "light"
     }
    },
    {
     "output_type": "display_data",
     "data": {
      "text/plain": [
       "<Figure size 432x288 with 0 Axes>"
      ]
     },
     "metadata": {
      "tags": []
     }
    }
   ]
  }
 ]
}